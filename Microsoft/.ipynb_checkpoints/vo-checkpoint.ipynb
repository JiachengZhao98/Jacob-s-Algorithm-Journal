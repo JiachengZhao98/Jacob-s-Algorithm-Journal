{
 "cells": [
  {
   "cell_type": "markdown",
   "id": "d645161d-2d83-43f5-a01b-5f6e3064016f",
   "metadata": {},
   "source": [
    "#### Leetcode 2850. Minimum Moves to Spread Stones Over Grid"
   ]
  },
  {
   "cell_type": "code",
   "execution_count": null,
   "id": "8921370e-9b2e-4b26-95be-475225ed0e57",
   "metadata": {},
   "outputs": [],
   "source": [
    "from typing import List\n",
    "import itertools\n",
    "\n",
    "def minimumMoves(self, grid: List[List[int]]) -> int:\n",
    "    zeros, stone = [], []\n",
    "    for i in range(3):\n",
    "        for j in range(3):\n",
    "            if grid[i][j] == 0:\n",
    "                zeros.append((i, j))\n",
    "            elif grid[i][j] > 1:\n",
    "                stone += [(i, j)] * (grid[i][j] - 1)\n",
    "    return min(sum(abs(r-R) + abs(c-C) for (r, c), (R, C) in zip(zeros, p)) for p in itertools.permutations(stone))\n"
   ]
  },
  {
   "cell_type": "markdown",
   "id": "e064e7e9-435a-473d-a993-2412ec8c6490",
   "metadata": {},
   "source": [
    "#### Leetcode 1239. Maximum Length of a Concatenated String with Unique Characters"
   ]
  },
  {
   "cell_type": "code",
   "execution_count": null,
   "id": "2ae989bc-0850-4356-9586-3cf03bc077c3",
   "metadata": {},
   "outputs": [],
   "source": [
    "def maxLength(self, arr: List[str]) -> int:\n",
    "    res = 0\n",
    "    combination = [\"\"]\n",
    "    for chars in arr:\n",
    "        for r in combination:\n",
    "            newStr = r + chars\n",
    "            if len(newStr) != len(set(newStr)):\n",
    "                continue\n",
    "            combination.append(newStr)\n",
    "            res = max(res, len(newStr))\n",
    "    return res\n",
    "\n"
   ]
  },
  {
   "cell_type": "markdown",
   "id": "028073bd",
   "metadata": {},
   "source": [
    "#### Leetcode 1376. Time Needed to Inform All Employees"
   ]
  },
  {
   "cell_type": "code",
   "execution_count": 2,
   "id": "fd0689be-c6f9-4f0b-bc9e-c701972ab11e",
   "metadata": {},
   "outputs": [],
   "source": [
    "from collections import deque\n",
    "from typing import List\n",
    "class Solution:\n",
    "    def numOfMinutes(self, n: int, headID: int, manager: List[int], informTime: List[int]) -> int:\n",
    "        mgr_sub = {i : [] for i in range(n)}\n",
    "        total_time = 0\n",
    "        for i in range(len(manager)):\n",
    "            if manager[i] != -1:\n",
    "                mgr_sub[manager[i]].append(i)\n",
    "        que = deque()\n",
    "        que.append([headID, 0])\n",
    "        while que:\n",
    "            current, time = que.popleft()\n",
    "            total_time = max(total_time, time)\n",
    "            for i in range(len(mgr_sub[current])):\n",
    "                que.append([mgr_sub[current][i], time + informTime[current]])\n",
    "        return total_time\n",
    "\n"
   ]
  },
  {
   "cell_type": "markdown",
   "id": "99dca924",
   "metadata": {},
   "source": [
    "#### LC 273. Integer to English Words"
   ]
  },
  {
   "cell_type": "code",
   "execution_count": null,
   "id": "57a64f81",
   "metadata": {},
   "outputs": [],
   "source": [
    "units = [\"\", \"One\", \"Two\", \"Three\", \"Four\", \"Five\", \"Six\",\n",
    "                \"Seven\", \"Eight\", \"Nine\"]\n",
    "tenths = [\"\", \"Ten\", \"Twenty\", \"Thirty\", \"Forty\", \"Fifty\", \"Sixty\",\n",
    "                \"Seventy\", \"Eighty\", \"Ninety\"]\n",
    "def outputTens(num: int) -> str:\n",
    "    if num < 10: return units[num]\n",
    "    if num >= 10 and num < 20:\n",
    "        if num == 10: return \"Ten\"\n",
    "        if num == 11: return \"Eleven\"\n",
    "        if num == 12: return \"Twelve\"\n",
    "        if num == 13: return \"Thirteen\"\n",
    "        if num == 14: return \"Fourteen\"\n",
    "        if num == 15: return \"Fifteen\"\n",
    "        if num == 16: return \"Sixteen\"\n",
    "        if num == 17: return \"Seventeen\"\n",
    "        if num == 18: return \"Eighteen\"\n",
    "        if num == 19: return \"Nineteen\"\n",
    "    if num >= 20:\n",
    "        tensDigit = num // 10\n",
    "        onesDigit = num % 10\n",
    "        if onesDigit != 0:\n",
    "            return tenths[tensDigit] + \" \" + units[onesDigit]\n",
    "        return tenths[tensDigit]\n",
    "\n",
    "def outputHundreds(num):\n",
    "    if num < 100:\n",
    "        return outputTens(num)\n",
    "    hundred_digit = num // 100\n",
    "    tens = num % 100\n",
    "    if tens != 0:\n",
    "        return units[hundred_digit] + \" \" + \"Hundred\" + \" \" + outputTens(tens)\n",
    "    return units[hundred_digit] + \" \" + \"Hundred\"\n",
    "\n",
    "class Solution:\n",
    "    # 2,147,483,647\n",
    "    def numberToWords(self, num: int) -> str:\n",
    "        if num == 0: return \"Zero\"\n",
    "        n = len(str(num))\n",
    "        res = []\n",
    "\n",
    "        # these are \"if\", not \"elif\"\n",
    "        if n > 9:\n",
    "            bi = num // 1000000000\n",
    "            res.append(outputHundreds( bi ) + \" Billion\")\n",
    "        if n > 6:\n",
    "            thou = (num % 1000000000) // 1000000\n",
    "            if thou != 0:\n",
    "                res.append(outputHundreds( thou )  + \" Million\")\n",
    "        if n > 3:\n",
    "            hun = (num % 1000000) // 1000\n",
    "            if hun != 0:\n",
    "                res.append(outputHundreds( hun ) + \" Thousand\")\n",
    "        if num % 1000 > 0:\n",
    "            res.append(outputHundreds(num % 1000))\n",
    "\n",
    "        return ' '.join(filter(None, res))\n"
   ]
  },
  {
   "cell_type": "code",
   "execution_count": null,
   "id": "d114a9f7",
   "metadata": {},
   "outputs": [],
   "source": [
    "from functools import cache\n",
    "class Solution:\n",
    "    def makesquare(self, matchsticks: List[int]) -> bool:\n",
    "        perimeter = sum(matchsticks)\n",
    "        if perimeter % 4 != 0 or len(matchsticks) < 4:\n",
    "            return False\n",
    "        length = perimeter / 4\n",
    "        matchsticks.sort(reverse=True)\n",
    "        @cache\n",
    "        def dfs():\n",
    "            \n",
    "\n"
   ]
  }
 ],
 "metadata": {
  "kernelspec": {
   "display_name": "Python 3 (ipykernel)",
   "language": "python",
   "name": "python3"
  },
  "language_info": {
   "codemirror_mode": {
    "name": "ipython",
    "version": 3
   },
   "file_extension": ".py",
   "mimetype": "text/x-python",
   "name": "python",
   "nbconvert_exporter": "python",
   "pygments_lexer": "ipython3",
   "version": "3.12.1"
  }
 },
 "nbformat": 4,
 "nbformat_minor": 5
}
