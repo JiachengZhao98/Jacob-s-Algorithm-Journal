{
 "cells": [
  {
   "cell_type": "markdown",
   "id": "d645161d-2d83-43f5-a01b-5f6e3064016f",
   "metadata": {},
   "source": [
    "#### Leetcode 2850. Minimum Moves to Spread Stones Over Grid"
   ]
  },
  {
   "cell_type": "code",
   "execution_count": null,
   "id": "8921370e-9b2e-4b26-95be-475225ed0e57",
   "metadata": {},
   "outputs": [],
   "source": [
    "from typing import List\n",
    "import itertools\n",
    "\n",
    "def minimumMoves(self, grid: List[List[int]]) -> int:\n",
    "    zeros, stone = [], []\n",
    "    for i in range(3):\n",
    "        for j in range(3):\n",
    "            if grid[i][j] == 0:\n",
    "                zeros.append((i, j))\n",
    "            elif grid[i][j] > 1:\n",
    "                stone += [(i, j)] * (grid[i][j] - 1)\n",
    "    return min(sum(abs(r-R) + abs(c-C) for (r, c), (R, C) in zip(zeros, p)) for p in itertools.permutations(stone))\n"
   ]
  },
  {
   "cell_type": "markdown",
   "id": "e064e7e9-435a-473d-a993-2412ec8c6490",
   "metadata": {},
   "source": [
    "#### Leetcode 1239. Maximum Length of a Concatenated String with Unique Characters"
   ]
  },
  {
   "cell_type": "code",
   "execution_count": null,
   "id": "2ae989bc-0850-4356-9586-3cf03bc077c3",
   "metadata": {},
   "outputs": [],
   "source": [
    "def maxLength(self, arr: List[str]) -> int:\n",
    "    res = 0\n",
    "    combination = [\"\"]\n",
    "    for chars in arr:\n",
    "        for r in combination:\n",
    "            newStr = r + chars\n",
    "            if len(newStr) != len(set(newStr)):\n",
    "                continue\n",
    "            combination.append(newStr)\n",
    "            res = max(res, len(newStr))\n",
    "    return res\n",
    "\n"
   ]
  },
  {
   "cell_type": "markdown",
   "id": "028073bd",
   "metadata": {},
   "source": [
    "#### Leetcode 1376. Time Needed to Inform All Employees"
   ]
  },
  {
   "cell_type": "code",
   "execution_count": 2,
   "id": "fd0689be-c6f9-4f0b-bc9e-c701972ab11e",
   "metadata": {},
   "outputs": [],
   "source": [
    "from collections import deque\n",
    "from typing import List\n",
    "class Solution:\n",
    "    def numOfMinutes(self, n: int, headID: int, manager: List[int], informTime: List[int]) -> int:\n",
    "        mgr_sub = {i : [] for i in range(n)}\n",
    "        total_time = 0\n",
    "        for i in range(len(manager)):\n",
    "            if manager[i] != -1:\n",
    "                mgr_sub[manager[i]].append(i)\n",
    "        que = deque()\n",
    "        que.append([headID, 0])\n",
    "        while que:\n",
    "            current, time = que.popleft()\n",
    "            total_time = max(total_time, time)\n",
    "            for i in range(len(mgr_sub[current])):\n",
    "                que.append([mgr_sub[current][i], time + informTime[current]])\n",
    "        return total_time\n",
    "\n"
   ]
  },
  {
   "cell_type": "markdown",
   "id": "99dca924",
   "metadata": {},
   "source": [
    "#### LC 273. Integer to English Words"
   ]
  },
  {
   "cell_type": "code",
   "execution_count": null,
   "id": "57a64f81",
   "metadata": {},
   "outputs": [],
   "source": [
    "units = [\"\", \"One\", \"Two\", \"Three\", \"Four\", \"Five\", \"Six\",\n",
    "                \"Seven\", \"Eight\", \"Nine\"]\n",
    "tenths = [\"\", \"Ten\", \"Twenty\", \"Thirty\", \"Forty\", \"Fifty\", \"Sixty\",\n",
    "                \"Seventy\", \"Eighty\", \"Ninety\"]\n",
    "def outputTens(num: int) -> str:\n",
    "    if num < 10: return units[num]\n",
    "    if num >= 10 and num < 20:\n",
    "        if num == 10: return \"Ten\"\n",
    "        if num == 11: return \"Eleven\"\n",
    "        if num == 12: return \"Twelve\"\n",
    "        if num == 13: return \"Thirteen\"\n",
    "        if num == 14: return \"Fourteen\"\n",
    "        if num == 15: return \"Fifteen\"\n",
    "        if num == 16: return \"Sixteen\"\n",
    "        if num == 17: return \"Seventeen\"\n",
    "        if num == 18: return \"Eighteen\"\n",
    "        if num == 19: return \"Nineteen\"\n",
    "    if num >= 20:\n",
    "        tensDigit = num // 10\n",
    "        onesDigit = num % 10\n",
    "        if onesDigit != 0:\n",
    "            return tenths[tensDigit] + \" \" + units[onesDigit]\n",
    "        return tenths[tensDigit]\n",
    "\n",
    "def outputHundreds(num):\n",
    "    if num < 100:\n",
    "        return outputTens(num)\n",
    "    hundred_digit = num // 100\n",
    "    tens = num % 100\n",
    "    if tens != 0:\n",
    "        return units[hundred_digit] + \" \" + \"Hundred\" + \" \" + outputTens(tens)\n",
    "    return units[hundred_digit] + \" \" + \"Hundred\"\n",
    "\n",
    "class Solution:\n",
    "    # 2,147,483,647\n",
    "    def numberToWords(self, num: int) -> str:\n",
    "        if num == 0: return \"Zero\"\n",
    "        n = len(str(num))\n",
    "        res = []\n",
    "\n",
    "        # these are \"if\", not \"elif\"\n",
    "        if n > 9:\n",
    "            bi = num // 1000000000\n",
    "            res.append(outputHundreds( bi ) + \" Billion\")\n",
    "        if n > 6:\n",
    "            thou = (num % 1000000000) // 1000000\n",
    "            if thou != 0:\n",
    "                res.append(outputHundreds( thou )  + \" Million\")\n",
    "        if n > 3:\n",
    "            hun = (num % 1000000) // 1000\n",
    "            if hun != 0:\n",
    "                res.append(outputHundreds( hun ) + \" Thousand\")\n",
    "        if num % 1000 > 0:\n",
    "            res.append(outputHundreds(num % 1000))\n",
    "\n",
    "        return ' '.join(filter(None, res))\n"
   ]
  },
  {
   "cell_type": "markdown",
   "id": "4a390162",
   "metadata": {},
   "source": [
    "#### 473. Matchsticks to Square"
   ]
  },
  {
   "cell_type": "code",
   "execution_count": null,
   "id": "d114a9f7",
   "metadata": {},
   "outputs": [],
   "source": [
    "from functools import cache\n",
    "class Solution:\n",
    "    def makesquare(self, matchsticks: List[int]) -> bool:\n",
    "        n = len(matchsticks)\n",
    "        perimeter = sum(matchsticks)\n",
    "        if perimeter % 4 != 0 or len(matchsticks) < 4:\n",
    "            return False\n",
    "        side_length = perimeter / 4\n",
    "        matchsticks.sort(reverse=True)\n",
    "\n",
    "        @cache\n",
    "        def dfs(i, s1, s2, s3, s4):\n",
    "            if i == n:\n",
    "                return s1 == s2 == s3 == s4 == 0\n",
    "\n",
    "            return ((s1 >= matchsticks[i] and dfs(i + 1, s1 - matchsticks[i], s2, s3, s4))\n",
    "                or (s2 >= matchsticks[i] and dfs(i + 1, s1, s2 - matchsticks[i], s3, s4))\n",
    "                or (s3 >= matchsticks[i] and dfs(i + 1, s1, s2, s3 - matchsticks[i], s4))\n",
    "                or (s4 >= matchsticks[i] and dfs(i + 1, s1, s2, s3, s4 - matchsticks[i])))\n",
    "\n",
    "        return dfs(0, side_length, side_length, side_length, side_length)\n",
    "\n",
    "\n"
   ]
  },
  {
   "cell_type": "markdown",
   "id": "81bbdd40",
   "metadata": {},
   "source": [
    "#### LC 1027. Longest Arithmetic Subsequence"
   ]
  },
  {
   "cell_type": "code",
   "execution_count": null,
   "id": "57e70c61",
   "metadata": {},
   "outputs": [],
   "source": [
    "class Solution:\n",
    "    def longestArithSeqLength(self, nums: List[int]) -> int:\n",
    "        n = len(nums)\n",
    "        longest = 2\n",
    "        dp = [{} for _ in range(n)]\n",
    "        for i in range(n):\n",
    "            for j in range(i):\n",
    "                diff = nums[i] - nums[j]\n",
    "                dp[i][diff] = dp[j].get(diff, 1) + 1\n",
    "                longest = max(longest, dp[i][diff])\n",
    "        return longest"
   ]
  },
  {
   "cell_type": "markdown",
   "id": "89b6d83c",
   "metadata": {},
   "source": [
    "#### LC 2384. Largest Palindromic Number"
   ]
  },
  {
   "cell_type": "code",
   "execution_count": 8,
   "id": "c1128a53",
   "metadata": {},
   "outputs": [],
   "source": [
    "class Solution:\n",
    "    def largestPalindromic(self, num: str) -> str:\n",
    "        repeat_times = {}\n",
    "        max_times = 0\n",
    "        max_num = -1\n",
    "        for a in num:\n",
    "            repeat_times[a] = repeat_times.get(a, 0) + 1\n",
    "            max_times = max(max_times, repeat_times[a])\n",
    "            max_num = max(max_num, int(a))\n",
    "        sorted_key = {key: value for key, value in sorted(repeat_times.items(), reverse=True)}\n",
    "        if max_times == 1 or (len(sorted_key) == 1 and max_num == 0):\n",
    "            return str(max_num)\n",
    "        res = \"\"\n",
    "        single = -1\n",
    "        for key, value in sorted_key.items():\n",
    "            if value % 2 == 1:\n",
    "                single = max(single, int(key))\n",
    "            res += key * (value // 2)\n",
    "        if res[0] == '0':\n",
    "            while len(res) > 0 and res[0] == '0':\n",
    "                res = res[1:]\n",
    "        return res + str(single) + res[::-1] if single != -1 else res + res[::-1]"
   ]
  },
  {
   "cell_type": "markdown",
   "id": "018c170f",
   "metadata": {},
   "source": [
    "#### LC 2028. Find Missing Observations"
   ]
  },
  {
   "cell_type": "code",
   "execution_count": null,
   "id": "42d49111",
   "metadata": {},
   "outputs": [],
   "source": [
    "class Solution:\n",
    "    def missingRolls(self, rolls: List[int], mean: int, n: int) -> List[int]:\n",
    "        res = []\n",
    "        part_sum = mean * (len(rolls) + n) - sum(rolls)\n",
    "        if part_sum < n or part_sum > 6 * n:\n",
    "            return res\n",
    "        avg = part_sum // n\n",
    "        num_2 = part_sum - avg * n\n",
    "        res = [avg + 1] * num_2 + [avg] * (n - num_2)\n",
    "        return res\n",
    "\n"
   ]
  },
  {
   "cell_type": "markdown",
   "id": "50cb2ed3",
   "metadata": {},
   "source": [
    "#### LC 186. Reverse Words in a String II"
   ]
  },
  {
   "cell_type": "code",
   "execution_count": null,
   "id": "1e275c89",
   "metadata": {},
   "outputs": [],
   "source": [
    "class Solution:\n",
    "    def reverseWords(self, s: List[str]) -> None:\n",
    "        \"\"\"\n",
    "        Do not return anything, modify s in-place instead.\n",
    "        \"\"\"\n",
    "        if len(s) == 1:\n",
    "            return\n",
    "        words = []\n",
    "        part_word = \"\"\n",
    "        for char in s:\n",
    "            if char == \" \":\n",
    "                words.append(part_word)\n",
    "                part_word = \"\"\n",
    "                continue\n",
    "            part_word += char\n",
    "        words.append(part_word)\n",
    "        s.clear()\n",
    "        for i in range(len(words) - 1, -1, -1):\n",
    "            s += list(words[i])\n",
    "            s.append(\" \")\n",
    "        s.pop()\n",
    "        return\n"
   ]
  },
  {
   "cell_type": "markdown",
   "id": "5fb1b0f7",
   "metadata": {},
   "source": [
    "#### LC 974. Subarray Sums Divisible by K"
   ]
  },
  {
   "cell_type": "code",
   "execution_count": null,
   "id": "5eea94ef",
   "metadata": {},
   "outputs": [],
   "source": [
    "'''\n",
    "Next time when we meet the problems which are similiar to the questions of calculating the numbers of subarray,\n",
    "we can consider using the prefix sum technique\n",
    "'''\n",
    "\n",
    "# for the following question, prefix_sum(i) = prefix_sum(j) means the sum of all elements between index i and index j\n",
    "# is 0, and prefix_sum_reminder(i) = prefix_sum_reminder(j) means the sum of all elements between index i and index j\n",
    "# can be divided by k\n",
    "import itertools\n",
    "from collections import Counter\n",
    "\n",
    "class Solution:\n",
    "    def subarraysDivByK(self, nums: List[int], k: int) -> int:\n",
    "        count = 0\n",
    "        prefix_reminders = Counter(map(lambda x: x % k, list(itertools.accumulate(nums))))\n",
    "        for r in prefix_reminders:\n",
    "            count += prefix_reminders[r] * (prefix_reminders[r] - 1) // 2\n",
    "        count += prefix_reminders[0]\n",
    "        return count"
   ]
  },
  {
   "cell_type": "markdown",
   "id": "fe0c7b92",
   "metadata": {},
   "source": [
    "#### LC 2007. Find Original Array From Doubled Array"
   ]
  },
  {
   "cell_type": "code",
   "execution_count": null,
   "id": "f763c5d6",
   "metadata": {},
   "outputs": [],
   "source": [
    "class Solution:\n",
    "    def findOriginalArray(self, changed: List[int]) -> List[int]:\n",
    "        doubled_sum = sum(changed)\n",
    "        if doubled_sum % 3 or len(changed) % 2:\n",
    "            return []\n",
    "        original_sum = doubled_sum // 3\n",
    "        my_dict = {}\n",
    "        for num in changed:\n",
    "            my_dict[num] = my_dict.get(num, 0) + 1\n",
    "        res = []\n",
    "        for key in sorted(changed):\n",
    "            if my_dict[key] > 0:\n",
    "                if key*2 in my_dict and my_dict[key*2] > 0:\n",
    "                    res.append(key)\n",
    "                    my_dict[key] -= 1\n",
    "                    my_dict[key*2] -= 1\n",
    "        return res if sum(res) == original_sum else []"
   ]
  },
  {
   "cell_type": "markdown",
   "id": "f395443b",
   "metadata": {},
   "source": [
    "#### LC 2251. Number of Flowers in Full Bloom"
   ]
  },
  {
   "cell_type": "code",
   "execution_count": null,
   "id": "3b8b0e22",
   "metadata": {},
   "outputs": [],
   "source": [
    "class Solution:\n",
    "    def fullBloomFlowers(self, flowers: List[List[int]], people: List[int]) -> List[int]:\n",
    "        starts = []\n",
    "        ends = []\n",
    "        res = []\n",
    "        for flower in flowers:\n",
    "            starts.append(flower[0])\n",
    "            ends.append(flower[1] + 1) # Note that a flower = [start, end] stops blooming at end + 1, not end\n",
    "        starts.sort()\n",
    "        ends.sort()\n",
    "        def binarySearch(times: List[int], target: int) -> int:\n",
    "            right = len(times)\n",
    "            left = 0\n",
    "            while left < right:\n",
    "                mid = (left + right) // 2\n",
    "                if (target < times[mid]):\n",
    "                    right = mid\n",
    "                else:\n",
    "                    left = mid + 1\n",
    "            return left\n",
    "\n",
    "        for time in people:\n",
    "            start = binarySearch(starts, time)\n",
    "            end = binarySearch(ends, time)\n",
    "            res.append(start - end)\n",
    "        return res"
   ]
  },
  {
   "cell_type": "markdown",
   "id": "857ca353",
   "metadata": {},
   "source": [
    "#### LC 400. Nth Digit"
   ]
  },
  {
   "cell_type": "code",
   "execution_count": null,
   "id": "061a502b",
   "metadata": {},
   "outputs": [],
   "source": [
    "class Solution:\n",
    "    def findNthDigit(self, n: int) -> int:\n",
    "        if n <= 9:\n",
    "            return n\n",
    "        length = 1\n",
    "        while 1:\n",
    "            if n <= 9 * pow(10, length - 1) * length:\n",
    "                break\n",
    "            n -= 9 * pow(10, length - 1) * length\n",
    "            length += 1\n",
    "        remainder = n % length\n",
    "        if remainder == 0:\n",
    "            num = pow(10, length - 1) + n // length - 1\n",
    "            return int(str(num)[-1])\n",
    "        else:\n",
    "            num = pow(10, length - 1) + n // length\n",
    "            return int(str(num)[remainder - 1])\n"
   ]
  },
  {
   "cell_type": "markdown",
   "id": "b8157570",
   "metadata": {},
   "source": [
    "#### LC 285. Inorder Successor in BST"
   ]
  },
  {
   "cell_type": "code",
   "execution_count": null,
   "id": "cd030080",
   "metadata": {},
   "outputs": [],
   "source": [
    "# Definition for a binary tree node.\n",
    "class TreeNode:\n",
    "    def __init__(self, x):\n",
    "        self.val = x\n",
    "        self.left = None\n",
    "        self.right = None\n",
    "'''\n",
    "use the property if a balanced BST, which is the value of a right node is always greater than the left node\n",
    "'''\n",
    "\n",
    "class Solution:\n",
    "    def inorderSuccessor(self, root: TreeNode, p: TreeNode) -> Optional[TreeNode]:\n",
    "        successor = None\n",
    "        while root:\n",
    "            if root.val <= p.val:\n",
    "                root = root.right\n",
    "            else:\n",
    "                successor = root\n",
    "                root = root.left\n",
    "        return successor\n"
   ]
  },
  {
   "cell_type": "code",
   "execution_count": 52,
   "id": "ab3f551e",
   "metadata": {},
   "outputs": [
    {
     "name": "stdout",
     "output_type": "stream",
     "text": [
      "1\n"
     ]
    }
   ],
   "source": [
    "import bisect\n",
    "count = 0\n",
    "start_time = [0, 15, 30, 45]\n",
    "index_login = bisect.bisect_left(start_time, 8)\n",
    "count += 4 - index_login if 0 not in start_time else 5 - index_login\n",
    "\n",
    "print(index_login)"
   ]
  },
  {
   "cell_type": "code",
   "execution_count": null,
   "id": "c3a7eac8",
   "metadata": {},
   "outputs": [],
   "source": []
  }
 ],
 "metadata": {
  "kernelspec": {
   "display_name": "Python 3 (ipykernel)",
   "language": "python",
   "name": "python3"
  },
  "language_info": {
   "codemirror_mode": {
    "name": "ipython",
    "version": 3
   },
   "file_extension": ".py",
   "mimetype": "text/x-python",
   "name": "python",
   "nbconvert_exporter": "python",
   "pygments_lexer": "ipython3",
   "version": "3.11.7"
  }
 },
 "nbformat": 4,
 "nbformat_minor": 5
}
